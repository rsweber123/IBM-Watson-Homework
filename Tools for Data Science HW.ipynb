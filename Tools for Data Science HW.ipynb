{
 "cells": [
  {
   "cell_type": "markdown",
   "id": "55f22ed1-c63b-4c89-bd7b-1b2fe7362377",
   "metadata": {},
   "source": [
    "# <h1>My Jupyter Notebook on IBM Watson Studio</h1>"
   ]
  },
  {
   "cell_type": "markdown",
   "id": "0bca5032-22fe-4b55-9f19-7a373d304519",
   "metadata": {},
   "source": [
    "<b>Ryan Weber</b>\n",
    "I don't currently have a desired job and am taking this course to expand my job options"
   ]
  },
  {
   "cell_type": "markdown",
   "id": "c868acd4-334c-4f60-81ff-99dbd3fc89fc",
   "metadata": {},
   "source": [
    "<i />I became interested in data science after working as a mechanical designer and watching coworkers process large ammounts of test data.  I figured there has to be a better way and that lead me here."
   ]
  },
  {
   "cell_type": "markdown",
   "id": "68cc0208-bd74-45d1-bc5e-54950030838c",
   "metadata": {},
   "source": [
    "<H3 />This script takes in a user entered number and prints a list of squares"
   ]
  },
  {
   "cell_type": "code",
   "execution_count": 2,
   "id": "1abaf0fd-8c56-429f-819d-a9a66f79a860",
   "metadata": {},
   "outputs": [
    {
     "name": "stdin",
     "output_type": "stream",
     "text": [
      "enter a number: ten\n",
      "Please input your choice as a digit:  10\n"
     ]
    },
    {
     "name": "stdout",
     "output_type": "stream",
     "text": [
      "[1, 4, 9, 16, 25, 36, 49, 64, 81, 100]\n"
     ]
    }
   ],
   "source": [
    "a = 0\n",
    "\n",
    "#takes users initial input for a number\n",
    "choice = input('enter a number:')\n",
    "\n",
    "#checks if that number is a digit a asks for a digit if not\n",
    "while choice.isdigit() == False:\n",
    "    choice = input('Please input your choice as a digit: ')\n",
    "#creates an empty list for the squared numbers    \n",
    "nums = []\n",
    "\n",
    "#creates the list of squared numbers\n",
    "while a < int(choice):\n",
    "    a += 1\n",
    "    nums.append(a**2)\n",
    "    \n",
    "print(nums)"
   ]
  },
  {
   "cell_type": "markdown",
   "id": "a0aab83c-3071-40d8-abea-fa3d0cb38a04",
   "metadata": {},
   "source": [
    "<a href=https://theresameesa.com/>Theresa's website</a>\n",
    "\n",
    "<h2>Things on that site</h2>\n",
    "    <ul>\n",
    "        <li>art</li>\n",
    "        <li>resume</li>\n",
    "        <li>contact info</li>\n",
    "        <li><s>unicorns</s></li>\n",
    "    </ul>\n",
    "<hr>\n",
    "<h2>Things to change about my short script above</h2>\n",
    "<ol>\n",
    "    <li>clear error message when user enters text</li>\n",
    "    <li>create list of tuples of both base number and squared</li>\n",
    "    <li>add option to create another list</li>\n",
    "</ol>\n",
    "    "
   ]
  },
  {
   "cell_type": "code",
   "execution_count": null,
   "id": "b79db46d-51a1-4d71-a682-3a45834076c6",
   "metadata": {},
   "outputs": [],
   "source": []
  }
 ],
 "metadata": {
  "kernelspec": {
   "display_name": "Python 3",
   "language": "python",
   "name": "python3"
  },
  "language_info": {
   "codemirror_mode": {
    "name": "ipython",
    "version": 3
   },
   "file_extension": ".py",
   "mimetype": "text/x-python",
   "name": "python",
   "nbconvert_exporter": "python",
   "pygments_lexer": "ipython3",
   "version": "3.8.8"
  }
 },
 "nbformat": 4,
 "nbformat_minor": 5
}
